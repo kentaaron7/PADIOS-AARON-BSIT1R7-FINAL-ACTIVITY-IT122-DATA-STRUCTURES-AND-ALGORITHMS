{
 "cells": [
  {
   "cell_type": "code",
   "execution_count": 2,
   "id": "682aa099-5271-4e45-992f-6f738642125e",
   "metadata": {},
   "outputs": [
    {
     "name": "stdout",
     "output_type": "stream",
     "text": [
      "Learnings from Chapter 9\n",
      "My Learnings from Chapter 9 are the following: \n",
      "\n",
      "Graph Data structures and python codes to make graphs. Graph have many connections and can be very complex at times. \n",
      "\n",
      "Graphs that have no direction are called Undirected graphs, which graphs have no direction between two nodes. Node are \n",
      "\n",
      "entities connected inside the graphs. and the objects or things that connects nodes or entities are called edges. One of the \n",
      "\n",
      "examples of graph structures is facebook's friends suggestions. Such as we, our avatar or entities are connected as friends \n",
      "\n",
      "by edges. Flight routes can also be given example of a graph. It is called a directed graph, unlike an undirected graph which \n",
      "\n",
      "has no direction, the directed graph has a direction. Theres a direction for a specific location in the connection of routes \n",
      "\n",
      ", hence a directed graph. \n",
      " \n"
     ]
    }
   ],
   "source": [
    "print(\"Learnings from Chapter 9\")\n",
    "print(\"My Learnings from Chapter 9 are the following: \\n\")\n",
    "print(\"Graph Data structures and python codes to make graphs. Graph have many connections and can be very complex at times. \\n\")\n",
    "print(\"Graphs that have no direction are called Undirected graphs, which graphs have no direction between two nodes. Node are \\n\")\n",
    "print(\"entities connected inside the graphs. and the objects or things that connects nodes or entities are called edges. One of the \\n\")\n",
    "print(\"examples of graph structures is facebook's friends suggestions. Such as we, our avatar or entities are connected as friends \\n\")\n",
    "print(\"by edges. Flight routes can also be given example of a graph. It is called a directed graph, unlike an undirected graph which \\n\")\n",
    "print(\"has no direction, the directed graph has a direction. Theres a direction for a specific location in the connection of routes \\n\")\n",
    "print(\", hence a directed graph. \\n \")"
   ]
  },
  {
   "cell_type": "code",
   "execution_count": 1,
   "id": "3102d321-ef31-4915-bfe3-eff8c05987fd",
   "metadata": {},
   "outputs": [
    {
     "name": "stdout",
     "output_type": "stream",
     "text": [
      "all my learnings from the chaper of number 10:\n",
      "These are the things of all that I have learned in Data Structures and algorithms chapter 10 Binary Search: \n",
      "\n",
      "The all things that I learned in chapter 10 of the subject is that Searching and sorting are the most common \n",
      "\n",
      "types of problem in data structures that we try to solve. Binary search is one of the popular search algorithm \n",
      "\n",
      "discussed in the lesson. The search algorithm happens when you want to look or search for a particular number \n",
      "\n",
      "in a list. You are taught in applying a code in which you are iterating all the transaction within the list. It \n",
      "\n",
      "is some sort of if else type of code thing in which there are specific requirement needed in the input to be \n",
      "\n",
      "able to match the specific search in the list. Time complexity for binary search code is straight forward unlike \n",
      "\n",
      "other source codes that takes too much time to formulate and take maximum time to execute which is  very tiring.\n",
      "\n",
      "This is called a linear search which use iterations. You waste too much time needing coffe in formulating these \n",
      "\n",
      "codes. Such is having a list of a million objects. You make a linear search which you make a million times which \n",
      "\n",
      "not efficient when you think about time management and manpower.\n"
     ]
    }
   ],
   "source": [
    "print(\"all my learnings from the chaper of number 10:\")\n",
    "print(\"These are the things of all that I have learned in Data Structures and algorithms chapter 10 Binary Search: \\n\")\n",
    "print(\"The all things that I learned in chapter 10 of the subject is that Searching and sorting are the most common \\n\")\n",
    "print(\"types of problem in data structures that we try to solve. Binary search is one of the popular search algorithm \\n\")\n",
    "print(\"discussed in the lesson. The search algorithm happens when you want to look or search for a particular number \\n\")\n",
    "print(\"in a list. You are taught in applying a code in which you are iterating all the transaction within the list. It \\n\")\n",
    "print(\"is some sort of if else type of code thing in which there are specific requirement needed in the input to be \\n\")\n",
    "print(\"able to match the specific search in the list. Time complexity for binary search code is straight forward unlike \\n\")\n",
    "print(\"other source codes that takes too much time to formulate and take maximum time to execute which is  very tiring.\\n\")\n",
    "print(\"This is called a linear search which use iterations. You waste too much time needing coffe in formulating these \\n\")\n",
    "print(\"codes. Such is having a list of a million objects. You make a linear search which you make a million times which \\n\")\n",
    "print(\"not efficient when you think about time management and manpower.\")"
   ]
  },
  {
   "cell_type": "code",
   "execution_count": 2,
   "id": "91433407-a80f-428e-9df8-fb8009861329",
   "metadata": {},
   "outputs": [
    {
     "name": "stdout",
     "output_type": "stream",
     "text": [
      "all of my previous learnings from the chapter of the number 11:\n",
      "The lesson of the chapter is about the topic of the Bubble Sort. The chapter discusses how important sorting is \n",
      "\n",
      "and how sorting is needed. In developing big projects, such as building or creating a program for a wireless store \n",
      "\n",
      "where in the computer there may be so many transactions. The many transactions must be sorted out. Sorting is a \n",
      "\n",
      "very common use case when people are doing some software development, bubble sort is one of the many sorting \n",
      "\n",
      "techniques. Which give you a list of numbers in wanting to sort the list. You will begin by doing the comparing of \n",
      "\n",
      "of first two numbers and will compare them first until it goes throght comparing all numbers in who is the greatest \n",
      "\n",
      "among all numbers inside the list and swaps them according to the requirement of the program to run the results. \n",
      "\n",
      "The process of the program repeats itself. Why a bubble sort is called a Bubble Sort is because a bubble sort \n",
      "\n",
      "because such as a bubble pops, it comes up from the bottom to up, similarly to the programs which goes up to the \n",
      "\n",
      "top of the list. Like a bubble being able to pop up from the bottom of the depth of the water, the list, to the \n",
      "\n",
      "surface of the water, like the top of the list. That's how the program is being made. It went all the way up\n"
     ]
    }
   ],
   "source": [
    "print(\"all of my previous learnings from the chapter of the number 11:\")\n",
    "print(\"The lesson of the chapter is about the topic of the Bubble Sort. The chapter discusses how important sorting is \\n\")\n",
    "print(\"and how sorting is needed. In developing big projects, such as building or creating a program for a wireless store \\n\")\n",
    "print(\"where in the computer there may be so many transactions. The many transactions must be sorted out. Sorting is a \\n\")\n",
    "print(\"very common use case when people are doing some software development, bubble sort is one of the many sorting \\n\")\n",
    "print(\"techniques. Which give you a list of numbers in wanting to sort the list. You will begin by doing the comparing of \\n\")\n",
    "print(\"of first two numbers and will compare them first until it goes throght comparing all numbers in who is the greatest \\n\")\n",
    "print(\"among all numbers inside the list and swaps them according to the requirement of the program to run the results. \\n\")\n",
    "print(\"The process of the program repeats itself. Why a bubble sort is called a Bubble Sort is because a bubble sort \\n\")\n",
    "print(\"because such as a bubble pops, it comes up from the bottom to up, similarly to the programs which goes up to the \\n\")\n",
    "print(\"top of the list. Like a bubble being able to pop up from the bottom of the depth of the water, the list, to the \\n\")\n",
    "print(\"surface of the water, like the top of the list. That's how the program is being made. It went all the way up\")"
   ]
  },
  {
   "cell_type": "code",
   "execution_count": 3,
   "id": "e104b96e-0161-4cb0-b24f-3cda1650191d",
   "metadata": {},
   "outputs": [
    {
     "name": "stdout",
     "output_type": "stream",
     "text": [
      "all the learnings I have made from chapter 12: \n",
      "The thihngs that I had learned in chapter 12 of data Structures and algorithms is about Sorting, specific to be Quick \n",
      "\n",
      "sort which is about sorting of in algorithm. There is also a techniques called a pivot in the sorting of the \n",
      "\n",
      "program which pivot is being put into position. The elements are being sorted out in the program of the lesson \n",
      "\n",
      "using the pivoting effect. It uses an element in pivoting and on the left side of the element, it sorts out the list \n",
      "\n",
      "so that all the numbers on the left of that element should be smaller in number than the value of that element. \n",
      "\n",
      "The number is used as base for the program in the sorting of the list in which numbers behind and in front, left \n",
      "\n",
      "or right is affected by the sorting and being the background of the element and the other numbers being affected \n",
      "\n",
      "by the sorting process of the program in data structures and algorithm in the lesson of chapter 12. The list, which \n",
      "\n",
      "is an array which is being used in a two partition technique thing. The left partition and the right partition of \n",
      "\n",
      "the string of the array list which is being ised at the quick sorting thing of the program structure of the lesson\n"
     ]
    }
   ],
   "source": [
    "print(\"all the learnings I have made from chapter 12: \")\n",
    "print(\"The thihngs that I had learned in chapter 12 of data Structures and algorithms is about Sorting, specific to be Quick \\n\")\n",
    "print(\"sort which is about sorting of in algorithm. There is also a techniques called a pivot in the sorting of the \\n\")\n",
    "print(\"program which pivot is being put into position. The elements are being sorted out in the program of the lesson \\n\")\n",
    "print(\"using the pivoting effect. It uses an element in pivoting and on the left side of the element, it sorts out the list \\n\")\n",
    "print(\"so that all the numbers on the left of that element should be smaller in number than the value of that element. \\n\")\n",
    "print(\"The number is used as base for the program in the sorting of the list in which numbers behind and in front, left \\n\")\n",
    "print(\"or right is affected by the sorting and being the background of the element and the other numbers being affected \\n\")\n",
    "print(\"by the sorting process of the program in data structures and algorithm in the lesson of chapter 12. The list, which \\n\")\n",
    "print(\"is an array which is being used in a two partition technique thing. The left partition and the right partition of \\n\")\n",
    "print(\"the string of the array list which is being ised at the quick sorting thing of the program structure of the lesson\")"
   ]
  },
  {
   "cell_type": "code",
   "execution_count": 4,
   "id": "bf12be31-58c6-4122-ae46-d0f6c828da28",
   "metadata": {},
   "outputs": [
    {
     "name": "stdout",
     "output_type": "stream",
     "text": [
      "The all of my learnings of the lesson and the reminders in chapter 13\n",
      "the lesson of the chapter thirteen talks about the importance and ability of the program of the insertion sortings \n",
      "\n",
      "whcih is another process or technique of sorting from the previous chapters or the previous lessons which also talks \n",
      "\n",
      "about the different topics on how to do and sort in a an array listing that is used in the programs being discussed \n",
      "\n",
      "in the lesson of the chapter. The lesson of the chapter covers some sorting programs theories inside and also \n",
      "\n",
      "includes sorting programs codes that are needed in creating a sorting program of some sort inside the lesson of the \n",
      "\n",
      "chapter 13 lesson. The lesson of chapter 13 also includes the lesson of making excercise using of the codes given \n",
      "\n",
      "by the lesson earlier when you delve in deeper of the reminders of learning the latest chapter. The video of the \n",
      "\n",
      "lesson starts with the video guy vlogger doing and explaining some kind of listing sort program sequence process \n",
      "\n",
      "called am unsorted sort list of numbers used in the lesson. It is explained that when you solve or sort an example \n",
      "\n",
      "of an array is to make another example of an array of the following program inside the lesson of the chapter 13. \n",
      "\n"
     ]
    }
   ],
   "source": [
    "print(\"The all of my learnings of the lesson and the reminders in chapter 13\")\n",
    "print(\"the lesson of the chapter thirteen talks about the importance and ability of the program of the insertion sortings \\n\")\n",
    "print(\"whcih is another process or technique of sorting from the previous chapters or the previous lessons which also talks \\n\")\n",
    "print(\"about the different topics on how to do and sort in a an array listing that is used in the programs being discussed \\n\")\n",
    "print(\"in the lesson of the chapter. The lesson of the chapter covers some sorting programs theories inside and also \\n\")\n",
    "print(\"includes sorting programs codes that are needed in creating a sorting program of some sort inside the lesson of the \\n\")\n",
    "print(\"chapter 13 lesson. The lesson of chapter 13 also includes the lesson of making excercise using of the codes given \\n\")\n",
    "print(\"by the lesson earlier when you delve in deeper of the reminders of learning the latest chapter. The video of the \\n\")\n",
    "print(\"lesson starts with the video guy vlogger doing and explaining some kind of listing sort program sequence process \\n\")\n",
    "print(\"called am unsorted sort list of numbers used in the lesson. It is explained that when you solve or sort an example \\n\")\n",
    "print(\"of an array is to make another example of an array of the following program inside the lesson of the chapter 13. \\n\")\n"
   ]
  },
  {
   "cell_type": "code",
   "execution_count": 1,
   "id": "02b13dfd-e59e-45b2-a1ac-7b80acc6f7b1",
   "metadata": {},
   "outputs": [
    {
     "name": "stdout",
     "output_type": "stream",
     "text": [
      "Chapter 14: all the learnings I have learned and the data that i have gathered from the latest fourteenth chapter\n",
      "The lesson of chapter 14 discusses a very popular must very short algorithm in the video of the lesson of the data \n",
      "\n",
      "Usual things there are theories discussed along in the lessons in the chapter being involved in the process of the \n",
      "\n",
      "video and implements more shorts in python. There is agiven example in learning in the lesson of the chapter where \n",
      "\n",
      "it shows an example of two arrays together as an example for the program and the theories involving around it as the \n",
      "\n",
      "lesson progresses to show some of the important parts of the exercise in creating a program related to the current \n",
      "\n",
      "chapter. It tells of merging of the arrays being used in the program of the lesson of the chapter into one single \n",
      "\n",
      "sorted array. The whole goal of a sorting algorithm in the lesson is to take the unsorted array and then create a \n",
      "\n",
      "sorted array out of that unsorted array inside of the program. it starts with the very first element of the list \n",
      "\n",
      "in each of the arrays and then you compare the both of them. the smallest element comparable will be put in to the \n",
      "\n",
      "sorted version of the array but the pointers should still be kept in the program as is, but should be moved in the next \n",
      "\n"
     ]
    }
   ],
   "source": [
    "print(\"Chapter 14: all the learnings I have learned and the data that i have gathered from the latest fourteenth chapter\")\n",
    "print(\"The lesson of chapter 14 discusses a very popular must very short algorithm in the video of the lesson of the data \\n\")\n",
    "print(\"Usual things there are theories discussed along in the lessons in the chapter being involved in the process of the \\n\")\n",
    "print(\"video and implements more shorts in python. There is agiven example in learning in the lesson of the chapter where \\n\")\n",
    "print(\"it shows an example of two arrays together as an example for the program and the theories involving around it as the \\n\")\n",
    "print(\"lesson progresses to show some of the important parts of the exercise in creating a program related to the current \\n\")\n",
    "print(\"chapter. It tells of merging of the arrays being used in the program of the lesson of the chapter into one single \\n\")\n",
    "print(\"sorted array. The whole goal of a sorting algorithm in the lesson is to take the unsorted array and then create a \\n\")\n",
    "print(\"sorted array out of that unsorted array inside of the program. it starts with the very first element of the list \\n\")\n",
    "print(\"in each of the arrays and then you compare the both of them. the smallest element comparable will be put in to the \\n\")\n",
    "print(\"sorted version of the array but the pointers should still be kept in the program as is, but should be moved in the next \\n\")"
   ]
  },
  {
   "cell_type": "code",
   "execution_count": 2,
   "id": "08f34ff6-4cc6-455d-b59c-6419da4015f9",
   "metadata": {},
   "outputs": [
    {
     "name": "stdout",
     "output_type": "stream",
     "text": [
      "All the learnings that I have learned in the lesson of the video shown about in the latest of the chapter of the 15 \n",
      "\n",
      "the chapter is all about going over one more important sorting thing and cell sorts that is included in coding in \n",
      "\n",
      "python coding program. It is called the insertion sort in the python programming code language thing where the elements \n",
      "\n",
      "are graded out for the program. there are also an unsorted arrays and other arrays involved in the shell short array \n",
      "\n",
      "sortings. The video says about a goal of the array sort to start on an arrow with the certain part of following \n",
      "\n",
      "where it is pointed out and you have to go element by element all over the programs. There are unsorted arrays \n",
      "\n",
      "on either sides of the arrays within the program in the video of the lesson of chapter where you look at the items \n",
      "\n",
      "but will not be able to change your positions because some of the numbers in the array program are already sorted \n",
      "\n",
      "out and then go to another thing r another element in the list array and you will also want to pit it, the number, \n",
      "\n",
      "to another list array in anything having a blue background, according to the video by the video guy programmer vlog \n",
      "\n",
      "that is considered also as a sorted array still according based to what the the programmer in the video is saying \n",
      "\n"
     ]
    }
   ],
   "source": [
    "print(\"All the learnings that I have learned in the lesson of the video shown about in the latest of the chapter of the 15 \\n\")\n",
    "print(\"the chapter is all about going over one more important sorting thing and cell sorts that is included in coding in \\n\")\n",
    "print(\"python coding program. It is called the insertion sort in the python programming code language thing where the elements \\n\")\n",
    "print(\"are graded out for the program. there are also an unsorted arrays and other arrays involved in the shell short array \\n\")\n",
    "print(\"sortings. The video says about a goal of the array sort to start on an arrow with the certain part of following \\n\")\n",
    "print(\"where it is pointed out and you have to go element by element all over the programs. There are unsorted arrays \\n\")\n",
    "print(\"on either sides of the arrays within the program in the video of the lesson of chapter where you look at the items \\n\")\n",
    "print(\"but will not be able to change your positions because some of the numbers in the array program are already sorted \\n\")\n",
    "print(\"out and then go to another thing r another element in the list array and you will also want to pit it, the number, \\n\")\n",
    "print(\"to another list array in anything having a blue background, according to the video by the video guy programmer vlog \\n\")\n",
    "print(\"that is considered also as a sorted array still according based to what the the programmer in the video is saying \\n\")"
   ]
  },
  {
   "cell_type": "code",
   "execution_count": 3,
   "id": "1342da80-7f17-4c01-9115-27886f209d26",
   "metadata": {},
   "outputs": [
    {
     "name": "stdout",
     "output_type": "stream",
     "text": [
      "Chapter 16: And all the things that I have learned from the video about the lesson of the said chapter along  with it \n",
      "\n",
      "The chapter 16 and the things that I have learned is that the lesson is called a Selection Sort Method in sort \n",
      "\n",
      "The video tells us that we will be using the slection short in todays learning. It starts with just having a \n",
      "\n",
      "list of numbers in the program and what you do is trying to find a candidate in the program. It is for the first \n",
      "\n",
      "position in the program and that number must and should be the very minimum candidate in the list and it talks \n",
      "\n",
      "about swapping the a certain number into swapping that into the first element. After that, the first element of \n",
      "\n",
      "the list is sorted out according to the programming guy in the video. So now we move on to another of the element \n",
      "\n",
      "that is mentioned in the video of the lesson. Moving to the second element a candidate for a second position \n",
      "\n",
      "and that element is as explained in the video is the second minimum element or rather is is the minimum element \n",
      "\n",
      "in the unsorted array onwards which is unsorted on its left hand side of the array which is known as the sorted \n",
      "\n",
      "array. So you swap a certain element with the minimum element and then move on to the next and repeating the process \n",
      "\n"
     ]
    }
   ],
   "source": [
    "print(\"Chapter 16: And all the things that I have learned from the video about the lesson of the said chapter along  with it \\n\")\n",
    "print(\"The chapter 16 and the things that I have learned is that the lesson is called a Selection Sort Method in sort \\n\")\n",
    "print(\"The video tells us that we will be using the slection short in todays learning. It starts with just having a \\n\")\n",
    "print(\"list of numbers in the program and what you do is trying to find a candidate in the program. It is for the first \\n\")\n",
    "print(\"position in the program and that number must and should be the very minimum candidate in the list and it talks \\n\")\n",
    "print(\"about swapping the a certain number into swapping that into the first element. After that, the first element of \\n\")\n",
    "print(\"the list is sorted out according to the programming guy in the video. So now we move on to another of the element \\n\")\n",
    "print(\"that is mentioned in the video of the lesson. Moving to the second element a candidate for a second position \\n\")\n",
    "print(\"and that element is as explained in the video is the second minimum element or rather is is the minimum element \\n\")\n",
    "print(\"in the unsorted array onwards which is unsorted on its left hand side of the array which is known as the sorted \\n\")\n",
    "print(\"array. So you swap a certain element with the minimum element and then move on to the next and repeating the process \\n\")"
   ]
  },
  {
   "cell_type": "code",
   "execution_count": 4,
   "id": "f20c5cf2-203f-4b8b-b0a1-a5de83d98062",
   "metadata": {},
   "outputs": [
    {
     "name": "stdout",
     "output_type": "stream",
     "text": [
      "17\n",
      "The video of the lesson talks about a very important concept of the computer science called recursion thing in it. \n",
      "\n",
      "It start with the veideo of the lesson showing an example of a couple of people outside of the pizza place that \n",
      "\n",
      "is waiting for the order of pizzas. Now the owner of that store, pizza store realizes that his customers the \n",
      "\n",
      "people are being getting bored so he gives them compensation just for them to not get bored. Garlic bread is what \n",
      "\n",
      "the owner is compensating the customers, and gives the first one garlic bread and the next he adds one and so on \n",
      "\n",
      "incrementing the numbers by 1 on each of the following customers up to the back of the line. he tells them to do \n",
      "\n",
      "something to not get bored in wating in line for their pizza delivery. Now, every person on the line must count \n",
      "\n",
      "the total number of breads from the line given to them. This approach of solving a problem is called a recursion. \n",
      "\n",
      "I t is a very important concept in the lesson of the chapterin data structures and algorithms. You are basically \n",
      "\n",
      "doing many steps in this approach of program solutio in this lesson which gives us three steps in solving it all \n",
      "\n"
     ]
    }
   ],
   "source": [
    "print(\"17\")\n",
    "print(\"The video of the lesson talks about a very important concept of the computer science called recursion thing in it. \\n\")\n",
    "print(\"It start with the veideo of the lesson showing an example of a couple of people outside of the pizza place that \\n\")\n",
    "print(\"is waiting for the order of pizzas. Now the owner of that store, pizza store realizes that his customers the \\n\")\n",
    "print(\"people are being getting bored so he gives them compensation just for them to not get bored. Garlic bread is what \\n\")\n",
    "print(\"the owner is compensating the customers, and gives the first one garlic bread and the next he adds one and so on \\n\")\n",
    "print(\"incrementing the numbers by 1 on each of the following customers up to the back of the line. he tells them to do \\n\")\n",
    "print(\"something to not get bored in wating in line for their pizza delivery. Now, every person on the line must count \\n\")\n",
    "print(\"the total number of breads from the line given to them. This approach of solving a problem is called a recursion. \\n\")\n",
    "print(\"I t is a very important concept in the lesson of the chapterin data structures and algorithms. You are basically \\n\")\n",
    "print(\"doing many steps in this approach of program solutio in this lesson which gives us three steps in solving it all \\n\")"
   ]
  },
  {
   "cell_type": "code",
   "execution_count": 9,
   "id": "379a660c-abbd-4499-a533-60743553a784",
   "metadata": {},
   "outputs": [
    {
     "name": "stdout",
     "output_type": "stream",
     "text": [
      "3/4\n",
      "3\n",
      "4\n"
     ]
    }
   ],
   "source": [
    "class Fraction: #test II number 1\n",
    "\n",
    "    def __init__(self, top, bottom):\n",
    "\n",
    "        self.num = top        # the numerator is on top\n",
    "        self.den = bottom     # the denominator is on the bottom\n",
    "\n",
    "    def __str__(self):\n",
    "        return str(self.num) + \"/\" + str(self.den)\n",
    "\n",
    "    def getNum(self):\n",
    "        return self.num\n",
    "\n",
    "    def getDen(self):\n",
    "        return self.den\n",
    "\n",
    "myfraction = Fraction(3, 4)\n",
    "print(myfraction)\n",
    "\n",
    "print(myfraction.getNum())\n",
    "print(myfraction.getDen())\n"
   ]
  },
  {
   "cell_type": "code",
   "execution_count": 8,
   "id": "d0541698-c8bc-46c9-8034-15cfb1f09fe7",
   "metadata": {},
   "outputs": [
    {
     "name": "stdout",
     "output_type": "stream",
     "text": [
      "__radd__ is only called if the left object does not have an __add__ method, or that method does not know how to add the two objects (which it flags by returning NotImplemented). Both classes have an __add__ method, which do not return NotImplemented. Therefore the __radd__ method would never be called.\n"
     ]
    }
   ],
   "source": [
    "# test II number 2\n",
    "print(\"__radd__ is only called if the left object does not have an __add__ method, or that method does not know how to add the two objects (which it flags by returning NotImplemented). Both classes have an __add__ method, which do not return NotImplemented. Therefore the __radd__ method would never be called.\")\n"
   ]
  },
  {
   "cell_type": "code",
   "execution_count": 11,
   "id": "5cca01a8-cf24-4198-9508-269b922f5836",
   "metadata": {},
   "outputs": [
    {
     "name": "stdout",
     "output_type": "stream",
     "text": [
      "Half Adder is a combinational logic circuit which is designed by connecting one EX-OR gate and one AND gate. The half adder circuit has two inputs: A and B, which add two input digits and generates a carry and a sum. ... Thus, this is called Half Adder circuit.\n"
     ]
    }
   ],
   "source": [
    "# test II number 3\n",
    "print(\"Half Adder is a combinational logic circuit which is designed by connecting one EX-OR gate and one AND gate. The half adder circuit has two inputs: A and B, which add two input digits and generates a carry and a sum. ... Thus, this is called Half Adder circuit.\")"
   ]
  },
  {
   "cell_type": "code",
   "execution_count": 12,
   "id": "7d6bb8a3-d78e-44fe-a19c-4dba6b555a0c",
   "metadata": {},
   "outputs": [
    {
     "name": "stdout",
     "output_type": "stream",
     "text": [
      "0+0 = 00\n",
      "0+1 = 01\n",
      "1+0 = 01\n",
      "1+1 = 10\n"
     ]
    }
   ],
   "source": [
    "# test II 4\n",
    "print(\"0+0 = 00\")\n",
    "print(\"0+1 = 01\")\n",
    "print(\"1+0 = 01\")\n",
    "print(\"1+1 = 10\")"
   ]
  },
  {
   "cell_type": "code",
   "execution_count": 13,
   "id": "2428ef8c-9baa-4bb3-9fec-28633b258cb1",
   "metadata": {},
   "outputs": [
    {
     "name": "stdout",
     "output_type": "stream",
     "text": [
      "You got:\n",
      "2 of Spade\n",
      "7 of Spade\n",
      "10 of Spade\n",
      "11 of Club\n",
      "3 of Spade\n"
     ]
    }
   ],
   "source": [
    "# test II 5\n",
    "# Python program to shuffle a deck of card\n",
    "\n",
    "# importing modules\n",
    "import itertools, random\n",
    "\n",
    "# make a deck of cards\n",
    "deck = list(itertools.product(range(1,14),['Spade','Heart','Diamond','Club']))\n",
    "\n",
    "# shuffle the cards\n",
    "random.shuffle(deck)\n",
    "\n",
    "# draw five cards\n",
    "print(\"You got:\")\n",
    "for i in range(5):\n",
    "   print(deck[i][0], \"of\", deck[i][1])\n"
   ]
  },
  {
   "cell_type": "code",
   "execution_count": 15,
   "id": "9321909d-6aa6-41c0-a827-93d598553e05",
   "metadata": {},
   "outputs": [],
   "source": [
    "# test II number 6\n",
    "def pin_code_str(pin_code):\n",
    "    last_index = len(pin_code) - 1\n",
    "    digits = [char for char in \"1234567899\"]\n",
    "    attempt = len(pin_code) * \"0\"\n",
    "\n",
    "    while True:\n",
    "        for digit in digits:\n",
    "            if attempt == pin_code:\n",
    "                return True\n",
    "\n",
    "            attempt = attempt[:last_index] + digit\n",
    "\n",
    "        nine_count = 0\n",
    "        index = last_index\n",
    "        while attempt[index] == \"9\":\n",
    "            nine_count += 1\n",
    "            index -= 1\n",
    "\n",
    "        attempt = attempt[:index] + chr(ord(attempt[index]) + 1) + (nine_count * digits[0])"
   ]
  },
  {
   "cell_type": "code",
   "execution_count": null,
   "id": "4bc763a1-7a61-4479-a73b-e253cbdcdc0f",
   "metadata": {},
   "outputs": [],
   "source": [
    "# test II number 7\n",
    "print(\"A line of customers trying to buy pizza and falling in line for their order\")"
   ]
  },
  {
   "cell_type": "code",
   "execution_count": null,
   "id": "3e4a5555-2852-487a-93b2-b7639494cbee",
   "metadata": {},
   "outputs": [
    {
     "name": "stdout",
     "output_type": "stream",
     "text": [
      "enqueue <value>\n",
      "dequeue\n",
      "quit\n"
     ]
    }
   ],
   "source": [
    "# test II 8\n",
    "class Node:\n",
    "    def __init__(self, data):\n",
    "       self.data = data\n",
    "       self.next = None\n",
    " \n",
    "class Queue:\n",
    "    def __init__(self):\n",
    "        self.head = None\n",
    "        self.last = None\n",
    " \n",
    "    def enqueue(self, data):\n",
    "        if self.last is None:\n",
    "            self.head = Node(data)\n",
    "            self.last = self.head\n",
    "        else:\n",
    "            self.last.next = Node(data)\n",
    "            self.last = self.last.next\n",
    " \n",
    "    def dequeue(self):\n",
    "        if self.head is None:\n",
    "            return None\n",
    "        else:\n",
    "            to_return = self.head.data\n",
    "            self.head = self.head.next\n",
    "            return to_return\n",
    " \n",
    "a_queue = Queue()\n",
    "while True:\n",
    "    print('enqueue <value>')\n",
    "    print('dequeue')\n",
    "    print('quit')\n",
    "    do = input('What would you like to do? ').split()\n",
    " \n",
    "    operation = do[0].strip().lower()\n",
    "    if operation == 'enqueue':\n",
    "        a_queue.enqueue(int(do[1]))\n",
    "    elif operation == 'dequeue':\n",
    "        dequeued = a_queue.dequeue()\n",
    "        if dequeued is None:\n",
    "            print('Queue is empty.')\n",
    "        else:\n",
    "            print('Dequeued element: ', int(dequeued))\n",
    "    elif operation == 'quit':\n",
    "        break"
   ]
  },
  {
   "cell_type": "code",
   "execution_count": null,
   "id": "c32a13de-786f-4803-9688-fa93be2b6d56",
   "metadata": {},
   "outputs": [],
   "source": [
    "# test II number 9\n",
    "def factorial(x):\n",
    "    \"\"\"This is a recursive function\n",
    "    to find the factorial of an integer\"\"\"\n",
    "\n",
    "    if x == 1:\n",
    "        return 1\n",
    "    else:\n",
    "        return (x * factorial(x-1))\n",
    "\n",
    "\n",
    "num = 3\n",
    "print(\"The factorial of\", num, \"is\", factorial(num))"
   ]
  },
  {
   "cell_type": "code",
   "execution_count": null,
   "id": "85f6da06-5e26-4d1d-87a3-da4d5c6a564a",
   "metadata": {},
   "outputs": [],
   "source": [
    "# test II number 10\n",
    "def sequentialSearch(alist, item):\n",
    "    pos = 0\n",
    "    found = False\n",
    "\n",
    "    while pos < len(alist) and not found:\n",
    "        if alist[pos] == item:\n",
    "            found = True\n",
    "        else:\n",
    "            pos = pos+1\n",
    "\n",
    "    return found\n",
    "\n",
    "testlist = [1, 2, 32, 8, 17, 19, 42, 13, 0]\n",
    "print(sequentialSearch(testlist, 3))\n",
    "print(sequentialSearch(testlist, 13))"
   ]
  },
  {
   "cell_type": "code",
   "execution_count": null,
   "id": "9ce7f245-2cb1-49ab-91a1-e7d077628f5d",
   "metadata": {},
   "outputs": [],
   "source": [
    "# test II 11\n",
    "class StolenItem:\n",
    "\tdef __init__(self, theID, theValue, theWeight):\n",
    "\t\tself.ID = theID\n",
    "\t\tself.value = theValue\n",
    "\t\tself.weight = theWeight\n",
    "\n",
    "def dpMaxProfit (itemList, knapWeight, maxProfits, weightsUsed):\n",
    "\tmaxProfit = 0\n",
    "\n",
    "\tfor knapWeights in range (knapWeight + 1):\n",
    "\t\tprint \"KNAPWEIGHT:\", knapWeights - 1, \" \", maxProfits\n",
    "\t\tnewItem = itemList[0]\n",
    "\n",
    "\t\tfor item in [x for x in itemList if x.weight <= knapWeights]:\n",
    "\t\t\tif maxProfits[knapWeights - item.weight] + item.value > maxProfit: \n",
    "\t\t\t\tmaxProfit = maxProfits[knapWeights - item.weight] + item.value\n",
    "\t\t\t\tnewItem = item\n",
    "\t\tmaxProfits[knapWeights] = maxProfit\n",
    "\t\tweightsUsed[knapWeights] = newItem.weight\n",
    "\n",
    "\treturn(maxProfits[knapWeight])\n",
    "\t\n",
    "def reMaxProfit(itemList, knapWeight):\n",
    "\tif knapWeight < 1:\n",
    "\t\treturn 0 \n",
    "\n",
    "\tl1 = [x for x in itemList if x.weight <= knapWeight]\t\n",
    "\tprofitList = [(item.value + reMaxProfit(itemList, knapWeight-item.weight)) for item in l1]\n",
    "\n",
    "\tif len(profitList) > 0:\n",
    "\t\treturn max(profitList)\n",
    "\telse:\n",
    "\t\treturn 0 \n",
    "\t\t\n",
    "def _weightsUsed(weightList, knapWeight):\n",
    "\tweight = knapWeight\n",
    "\twhile weight > 0:\n",
    "\t\tprint(weightList[weight])\n",
    "\t\tweight -= weightList[weight]\n",
    "recurse = True\n",
    "if recurse:\n",
    "\tmaxProfits = [0] * (knapWeight + 1)\n",
    "\tweightsUsed = [0] * (knapWeight + 1)\n",
    "\n",
    "def main():\n",
    "\titemList = [StolenItem(1,3,2), StolenItem(2,4,3), StolenItem(3,8,4), StolenItem(4,8,5), StolenItem(5,10,9)]\n",
    "\tknapWeight = 20\n",
    "\tif !recurse:\n",
    "\t\tmaxProfits = [0] * (knapWeight + 1)\n",
    "\t\tweightsUsed = [0] * (knapWeight + 1)\n",
    "\t\tprint(dpMaxProfit(itemList, knapWeight, maxProfits, weightsUsed))\n",
    "\t\tprint _weightsUsed(weightsUsed, knapWeight)\n",
    "\telse:\t\n",
    "\t\tprint (reMaxProfit(itemList, knapWeight))\n",
    "\n",
    "if __name__ == \"__main__\":\n",
    "\tmain()"
   ]
  }
 ],
 "metadata": {
  "kernelspec": {
   "display_name": "Python 3",
   "language": "python",
   "name": "python3"
  },
  "language_info": {
   "codemirror_mode": {
    "name": "ipython",
    "version": 3
   },
   "file_extension": ".py",
   "mimetype": "text/x-python",
   "name": "python",
   "nbconvert_exporter": "python",
   "pygments_lexer": "ipython3",
   "version": "3.9.5"
  }
 },
 "nbformat": 4,
 "nbformat_minor": 5
}
